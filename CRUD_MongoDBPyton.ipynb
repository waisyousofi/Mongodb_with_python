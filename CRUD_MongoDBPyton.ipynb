{
 "cells": [
  {
   "cell_type": "markdown",
   "metadata": {},
   "source": [
    "# CRUD operation on mongodb database using python "
   ]
  },
  {
   "cell_type": "code",
   "execution_count": 33,
   "metadata": {},
   "outputs": [],
   "source": [
    "import pymongo\n",
    "from pymongo import MongoClient\n",
    "import certifi"
   ]
  },
  {
   "cell_type": "code",
   "execution_count": 34,
   "metadata": {},
   "outputs": [],
   "source": [
    "ca=certifi.where()\n",
    "cluster=pymongo.MongoClient(\"your connection string\",tlsCAFile=ca)\n"
   ]
  },
  {
   "cell_type": "markdown",
   "metadata": {},
   "source": [
    "**Database creation**"
   ]
  },
  {
   "cell_type": "code",
   "execution_count": 89,
   "metadata": {},
   "outputs": [],
   "source": [
    "Mydbvar=cluster.ABCorganization"
   ]
  },
  {
   "cell_type": "code",
   "execution_count": 90,
   "metadata": {},
   "outputs": [],
   "source": [
    "collectionvar=Mydbvar.Employee"
   ]
  },
  {
   "cell_type": "markdown",
   "metadata": {},
   "source": [
    "# Insertion"
   ]
  },
  {
   "cell_type": "code",
   "execution_count": 91,
   "metadata": {},
   "outputs": [
    {
     "name": "stderr",
     "output_type": "stream",
     "text": [
      "<ipython-input-91-054650b4bcdc>:1: DeprecationWarning: insert is deprecated. Use insert_one or insert_many instead.\n",
      "  collectionvar.insert({\"name\":'wais',\"role\":'data scientist',\"id\":'001A',\"Department\":'Analysis',\"age\":24,\"Education\":\"MSc.DSAI\"})\n",
      "<ipython-input-91-054650b4bcdc>:2: DeprecationWarning: insert is deprecated. Use insert_one or insert_many instead.\n",
      "  collectionvar.insert({\"name\":'Yousof',\"role\":'data scientist',\"id\":'002A',\"Department\":'Analysis',\"age\":25,\"Hobby\":\"Reading books\"})\n"
     ]
    },
    {
     "data": {
      "text/plain": [
       "ObjectId('61a9c213dbfecc37f1554909')"
      ]
     },
     "execution_count": 91,
     "metadata": {},
     "output_type": "execute_result"
    }
   ],
   "source": [
    "collectionvar.insert({\"name\":'wais',\"role\":'data scientist',\"id\":'001A',\"Department\":'Analysis',\"age\":24,\"Education\":\"MSc.DSAI\"})\n",
    "collectionvar.insert({\"name\":'Yousof',\"role\":'data scientist',\"id\":'002A',\"Department\":'Analysis',\"age\":25,\"Hobby\":\"Reading books\"})"
   ]
  },
  {
   "cell_type": "markdown",
   "metadata": {},
   "source": [
    "insert_one"
   ]
  },
  {
   "cell_type": "code",
   "execution_count": 92,
   "metadata": {},
   "outputs": [
    {
     "data": {
      "text/plain": [
       "ObjectId('61a9c230dbfecc37f155490a')"
      ]
     },
     "execution_count": 92,
     "metadata": {},
     "output_type": "execute_result"
    }
   ],
   "source": [
    "resultobj=collectionvar.insert_one({\"name\":'Ehsan',\"role\":'manager',\"id\":'001m',\"Department\":'management',\"age\":40,\"Education\":\"MBA\"})\n",
    "resultobj.inserted_id"
   ]
  },
  {
   "cell_type": "markdown",
   "metadata": {},
   "source": [
    "insert_many"
   ]
  },
  {
   "cell_type": "code",
   "execution_count": 93,
   "metadata": {},
   "outputs": [],
   "source": [
    "results=collectionvar.insert_many([#it should start with sqr braket\n",
    "    {\"name\":'wais',\"role\":'data scientist',\"id\":'001A',\"Department\":'Analysis',\"age\":24,\"Education\":\"MSc.DSAI\"},\n",
    "    {\"name\":'Yousof',\"role\":'data scientist',\"id\":'002A',\"Department\":'Analysis',\"age\":25,\"Hobby\":\"Reading books\"},\n",
    "    {\"name\":'Ahmad',\"role\":'Manager',\"id\":'001B',\"Department\":'Management',\"age\":35,\"address\":{\"city\":\"Mumbai\",\"Area\":\"Marol\"}},\n",
    "    {\"name\":'Arsalan',\"role\":'HR',\"id\":'001H',\"Department\":'Recruiter',\"age\":30},\n",
    "    {\"name\":'Ehsan2',\"role\":'CEO2',\"id\":'0015',\"Department\":'Managment',\"age\":30,\"experinace\":{\"Manager\":\"Facebook\",\"SoftwareEng\":\"Google\"}},\n",
    "    {\"name\":'Enayat',\"role\":'software engineer',\"id\":'001S',\"Department\":'IT',\"age\":26},\n",
    "    {\"name\":'Munaz',\"role\":'HR',\"id\":'002H',\"Department\":'Recr',\"age\":23,\"fathernm\":\"Zia\"}])"
   ]
  },
  {
   "cell_type": "code",
   "execution_count": 94,
   "metadata": {},
   "outputs": [
    {
     "data": {
      "text/plain": [
       "[ObjectId('61a9c26adbfecc37f155490b'),\n",
       " ObjectId('61a9c26adbfecc37f155490c'),\n",
       " ObjectId('61a9c26adbfecc37f155490d'),\n",
       " ObjectId('61a9c26adbfecc37f155490e'),\n",
       " ObjectId('61a9c26adbfecc37f155490f'),\n",
       " ObjectId('61a9c26adbfecc37f1554910'),\n",
       " ObjectId('61a9c26adbfecc37f1554911')]"
      ]
     },
     "execution_count": 94,
     "metadata": {},
     "output_type": "execute_result"
    }
   ],
   "source": [
    "results.inserted_ids"
   ]
  },
  {
   "cell_type": "markdown",
   "metadata": {},
   "source": [
    "# Read operation\n",
    "using find_one() method"
   ]
  },
  {
   "cell_type": "code",
   "execution_count": 95,
   "metadata": {},
   "outputs": [
    {
     "data": {
      "text/plain": [
       "{'_id': ObjectId('61a9c213dbfecc37f1554908'),\n",
       " 'name': 'wais',\n",
       " 'role': 'data scientist',\n",
       " 'id': '001A',\n",
       " 'Department': 'Analysis',\n",
       " 'age': 24,\n",
       " 'Education': 'MSc.DSAI'}"
      ]
     },
     "execution_count": 95,
     "metadata": {},
     "output_type": "execute_result"
    }
   ],
   "source": [
    "collectionvar.find_one()"
   ]
  },
  {
   "cell_type": "code",
   "execution_count": 96,
   "metadata": {},
   "outputs": [],
   "source": [
    "dic=collectionvar.find_one()"
   ]
  },
  {
   "cell_type": "code",
   "execution_count": 97,
   "metadata": {},
   "outputs": [
    {
     "data": {
      "text/plain": [
       "7"
      ]
     },
     "execution_count": 97,
     "metadata": {},
     "output_type": "execute_result"
    }
   ],
   "source": [
    "len(dic.items())"
   ]
  },
  {
   "cell_type": "code",
   "execution_count": 98,
   "metadata": {},
   "outputs": [
    {
     "name": "stdout",
     "output_type": "stream",
     "text": [
      "_id 61a9c213dbfecc37f1554908\n",
      "name wais\n",
      "role data scientist\n",
      "id 001A\n",
      "Department Analysis\n",
      "age 24\n",
      "Education MSc.DSAI\n"
     ]
    }
   ],
   "source": [
    "pars=dic.items()\n",
    "for key, value in pars:\n",
    "    print(key,value)"
   ]
  },
  {
   "cell_type": "markdown",
   "metadata": {},
   "source": [
    "read all documents"
   ]
  },
  {
   "cell_type": "code",
   "execution_count": 99,
   "metadata": {},
   "outputs": [],
   "source": [
    "dicall=collectionvar.find()\n",
    " "
   ]
  },
  {
   "cell_type": "code",
   "execution_count": 100,
   "metadata": {},
   "outputs": [
    {
     "data": {
      "text/plain": [
       "10"
      ]
     },
     "execution_count": 100,
     "metadata": {},
     "output_type": "execute_result"
    }
   ],
   "source": [
    "#collectionvar.count()\n",
    "lt=collectionvar.estimated_document_count()\n",
    "lt"
   ]
  },
  {
   "cell_type": "code",
   "execution_count": 101,
   "metadata": {},
   "outputs": [
    {
     "name": "stdout",
     "output_type": "stream",
     "text": [
      "_id 61a9c213dbfecc37f1554908\n",
      "name wais\n",
      "role data scientist\n",
      "id 001A\n",
      "Department Analysis\n",
      "age 24\n",
      "Education MSc.DSAI\n",
      "\n",
      "\n",
      "_id 61a9c213dbfecc37f1554909\n",
      "name Yousof\n",
      "role data scientist\n",
      "id 002A\n",
      "Department Analysis\n",
      "age 25\n",
      "Hobby Reading books\n",
      "\n",
      "\n",
      "_id 61a9c230dbfecc37f155490a\n",
      "name Ehsan\n",
      "role manager\n",
      "id 001m\n",
      "Department management\n",
      "age 40\n",
      "Education MBA\n",
      "\n",
      "\n",
      "_id 61a9c26adbfecc37f155490b\n",
      "name wais\n",
      "role data scientist\n",
      "id 001A\n",
      "Department Analysis\n",
      "age 24\n",
      "Education MSc.DSAI\n",
      "\n",
      "\n",
      "_id 61a9c26adbfecc37f155490c\n",
      "name Yousof\n",
      "role data scientist\n",
      "id 002A\n",
      "Department Analysis\n",
      "age 25\n",
      "Hobby Reading books\n",
      "\n",
      "\n",
      "_id 61a9c26adbfecc37f155490d\n",
      "name Ahmad\n",
      "role Manager\n",
      "id 001B\n",
      "Department Management\n",
      "age 35\n",
      "address {'city': 'Mumbai', 'Area': 'Marol'}\n",
      "\n",
      "\n",
      "_id 61a9c26adbfecc37f155490e\n",
      "name Arsalan\n",
      "role HR\n",
      "id 001H\n",
      "Department Recruiter\n",
      "age 30\n",
      "\n",
      "\n",
      "_id 61a9c26adbfecc37f155490f\n",
      "name Ehsan2\n",
      "role CEO2\n",
      "id 0015\n",
      "Department Managment\n",
      "age 30\n",
      "experinace {'Manager': 'Facebook', 'SoftwareEng': 'Google'}\n",
      "\n",
      "\n",
      "_id 61a9c26adbfecc37f1554910\n",
      "name Enayat\n",
      "role software engineer\n",
      "id 001S\n",
      "Department IT\n",
      "age 26\n",
      "\n",
      "\n",
      "_id 61a9c26adbfecc37f1554911\n",
      "name Munaz\n",
      "role HR\n",
      "id 002H\n",
      "Department Recr\n",
      "age 23\n",
      "fathernm Zia\n",
      "\n",
      "\n"
     ]
    }
   ],
   "source": [
    "for i in range(0,lt):\n",
    "    for key,val in dicall.next().items():\n",
    "        print(key,val)\n",
    "    print(\"\\n\")"
   ]
  },
  {
   "cell_type": "markdown",
   "metadata": {},
   "source": [
    "Reading only specific field"
   ]
  },
  {
   "cell_type": "code",
   "execution_count": 102,
   "metadata": {},
   "outputs": [],
   "source": [
    "names=collectionvar.find( {},{\"name\":True,\"age\":True,\"_id\":0})"
   ]
  },
  {
   "cell_type": "code",
   "execution_count": 103,
   "metadata": {},
   "outputs": [
    {
     "name": "stdout",
     "output_type": "stream",
     "text": [
      "name wais\n",
      "age 24\n",
      "name Yousof\n",
      "age 25\n",
      "name Ehsan\n",
      "age 40\n",
      "name wais\n",
      "age 24\n",
      "name Yousof\n",
      "age 25\n",
      "name Ahmad\n",
      "age 35\n",
      "name Arsalan\n",
      "age 30\n",
      "name Ehsan2\n",
      "age 30\n",
      "name Enayat\n",
      "age 26\n",
      "name Munaz\n",
      "age 23\n"
     ]
    }
   ],
   "source": [
    "for i in range(0,lt):\n",
    "    for kname,vname in names.next().items():\n",
    "        print(kname,vname)        "
   ]
  },
  {
   "cell_type": "markdown",
   "metadata": {},
   "source": [
    "AND Operation"
   ]
  },
  {
   "cell_type": "code",
   "execution_count": 104,
   "metadata": {},
   "outputs": [],
   "source": [
    "k=collectionvar.find_one(\n",
    "    {\"$and\":\n",
    "     [ {\"name\":\"Munaz\"},\n",
    "       {\"age\":23}\n",
    "     ]})"
   ]
  },
  {
   "cell_type": "code",
   "execution_count": 105,
   "metadata": {},
   "outputs": [
    {
     "name": "stdout",
     "output_type": "stream",
     "text": [
      "_id 61a9c26adbfecc37f1554911\n",
      "name Munaz\n",
      "role HR\n",
      "id 002H\n",
      "Department Recr\n",
      "age 23\n",
      "fathernm Zia\n"
     ]
    }
   ],
   "source": [
    "for key,val in k.items():\n",
    "    print(key,val)"
   ]
  },
  {
   "cell_type": "code",
   "execution_count": null,
   "metadata": {},
   "outputs": [],
   "source": []
  },
  {
   "cell_type": "markdown",
   "metadata": {},
   "source": [
    "OR Operation"
   ]
  },
  {
   "cell_type": "code",
   "execution_count": 106,
   "metadata": {},
   "outputs": [],
   "source": [
    "pk=collectionvar.find(\n",
    "    {\"$or\":\n",
    "     [ {\"name\":\"Ehsan\"},\n",
    "       {\"age\":23}\n",
    "     ]})\n"
   ]
  },
  {
   "cell_type": "code",
   "execution_count": 107,
   "metadata": {},
   "outputs": [
    {
     "name": "stderr",
     "output_type": "stream",
     "text": [
      "<ipython-input-107-900ea835f2d0>:1: DeprecationWarning: count is deprecated. Use Collection.count_documents instead.\n",
      "  lgth=pk.count()\n"
     ]
    },
    {
     "data": {
      "text/plain": [
       "2"
      ]
     },
     "execution_count": 107,
     "metadata": {},
     "output_type": "execute_result"
    }
   ],
   "source": [
    "lgth=pk.count()\n",
    "lgth"
   ]
  },
  {
   "cell_type": "code",
   "execution_count": 108,
   "metadata": {},
   "outputs": [
    {
     "name": "stdout",
     "output_type": "stream",
     "text": [
      "_id 61a9c230dbfecc37f155490a\n",
      "name Ehsan\n",
      "role manager\n",
      "id 001m\n",
      "Department management\n",
      "age 40\n",
      "Education MBA\n",
      "\n",
      "\n",
      "_id 61a9c26adbfecc37f1554911\n",
      "name Munaz\n",
      "role HR\n",
      "id 002H\n",
      "Department Recr\n",
      "age 23\n",
      "fathernm Zia\n",
      "\n",
      "\n"
     ]
    }
   ],
   "source": [
    "for i in range(0,lgth):\n",
    "    for key,val in pk.next().items():\n",
    "        print(key,val)\n",
    "    print(\"\\n\")"
   ]
  },
  {
   "cell_type": "code",
   "execution_count": null,
   "metadata": {},
   "outputs": [],
   "source": []
  },
  {
   "cell_type": "code",
   "execution_count": 109,
   "metadata": {},
   "outputs": [],
   "source": [
    "#ageval=collectionvar.find({\"age\":{\"$gt\":30}})\n",
    "ageval=collectionvar.find({\"name\":{\"$eq\":\"Shahla\"}})"
   ]
  },
  {
   "cell_type": "code",
   "execution_count": 110,
   "metadata": {},
   "outputs": [
    {
     "name": "stderr",
     "output_type": "stream",
     "text": [
      "<ipython-input-110-3e09bdc790b1>:1: DeprecationWarning: count is deprecated. Use Collection.count_documents instead.\n",
      "  for i in range(0,ageval.count()):\n"
     ]
    }
   ],
   "source": [
    "for i in range(0,ageval.count()):\n",
    "    for k,v in ageval.next().items():\n",
    "        print(k,v)\n",
    "    print(\"\\n\")"
   ]
  },
  {
   "cell_type": "code",
   "execution_count": null,
   "metadata": {},
   "outputs": [],
   "source": []
  },
  {
   "cell_type": "markdown",
   "metadata": {},
   "source": [
    "**Update operation**"
   ]
  },
  {
   "cell_type": "code",
   "execution_count": 111,
   "metadata": {},
   "outputs": [],
   "source": [
    "condition = {\"name\":\"Munaz\"}\n",
    "updatedval={\"name\":\"Shahla\"}\n",
    "\n",
    "updtresult=collectionvar.update_one(condition,{\"$set\":updatedval})"
   ]
  },
  {
   "cell_type": "code",
   "execution_count": 112,
   "metadata": {},
   "outputs": [
    {
     "data": {
      "text/plain": [
       "(1, 1, 1)"
      ]
     },
     "execution_count": 112,
     "metadata": {},
     "output_type": "execute_result"
    }
   ],
   "source": [
    "updtresult.matched_count,updtresult.modified_count,updtresult.modified_count"
   ]
  },
  {
   "cell_type": "code",
   "execution_count": null,
   "metadata": {},
   "outputs": [],
   "source": [
    "\n",
    "\n"
   ]
  },
  {
   "cell_type": "code",
   "execution_count": 113,
   "metadata": {},
   "outputs": [
    {
     "data": {
      "text/plain": [
       "<pymongo.results.DeleteResult at 0x2425a958480>"
      ]
     },
     "execution_count": 113,
     "metadata": {},
     "output_type": "execute_result"
    }
   ],
   "source": [
    "#delete operation\n",
    "condtn={\"name\":\"Ehsan2\"}\n",
    "collectionvar.delete_one(condtn)"
   ]
  },
  {
   "cell_type": "code",
   "execution_count": null,
   "metadata": {},
   "outputs": [],
   "source": []
  },
  {
   "cell_type": "markdown",
   "metadata": {},
   "source": [
    "\n",
    "\n",
    "***droping database or collection***\n"
   ]
  },
  {
   "cell_type": "code",
   "execution_count": 114,
   "metadata": {},
   "outputs": [],
   "source": [
    "collectionvar.drop()"
   ]
  },
  {
   "cell_type": "code",
   "execution_count": null,
   "metadata": {},
   "outputs": [],
   "source": [
    "#drop database\n",
    "#cluster.drop_database('ABCOrganiztion')\n"
   ]
  },
  {
   "cell_type": "code",
   "execution_count": null,
   "metadata": {},
   "outputs": [],
   "source": []
  }
 ],
 "metadata": {
  "kernelspec": {
   "display_name": "Python 3",
   "language": "python",
   "name": "python3"
  },
  "language_info": {
   "codemirror_mode": {
    "name": "ipython",
    "version": 3
   },
   "file_extension": ".py",
   "mimetype": "text/x-python",
   "name": "python",
   "nbconvert_exporter": "python",
   "pygments_lexer": "ipython3",
   "version": "3.8.5"
  }
 },
 "nbformat": 4,
 "nbformat_minor": 4
}
